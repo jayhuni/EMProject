{
 "cells": [
  {
   "cell_type": "code",
   "execution_count": null,
   "metadata": {},
   "outputs": [],
   "source": [
    "import pandas as pd \n",
    "import requests\n",
    "from tqdm import tqdm  # Import tqdm\n",
    "\n",
    "mykey = 'keynumber'\n",
    "\n",
    "data = []\n",
    "\n",
    "# Use tqdm to add a progress bar\n",
    "for i in tqdm(range(1, 2712), desc=\"Fetching data\"):\n",
    "    url = f'http://openapi.seoul.go.kr:8088/{mykey}/json/tbCycleUseStatus/{i}/{i}/2019-11-21'\n",
    "\n",
    "    try:\n",
    "        response = requests.get(url)\n",
    "        response.raise_for_status()  # Check for HTTP errors\n",
    "\n",
    "        json_data = response.json()\n",
    "        body = json_data.get('useStatus', {}).get('row', [])\n",
    "        2\n",
    "        # Assuming you want to extract the 'STA_LOC' field from each row\n",
    "        county_data = [m.get('STA_LOC') for m in body]\n",
    "        name_data = [m.get('RENT_NM') for m in body]\n",
    "        rental_data = [m.get('RENT_CNT') for m in body]\n",
    "        return_data = [m.get('RTN_CNT') for m in body]\n",
    "        \n",
    "        data.append({'구' : county_data, '정류소 명' : name_data, '대여 대수' : rental_data, '반납 대수' : return_data})\n",
    "    \n",
    "    except requests.exceptions.RequestException as e:\n",
    "        print(f\"Error fetching data for station {i}: {e}\")"
   ]
  },
  {
   "cell_type": "code",
   "execution_count": null,
   "metadata": {},
   "outputs": [],
   "source": [
    "df = pd.DataFrame(data)\n",
    "df.to_csv('bike_20191121.csv')"
   ]
  }
 ],
 "metadata": {
  "language_info": {
   "name": "python"
  }
 },
 "nbformat": 4,
 "nbformat_minor": 2
}
